{
 "cells": [
  {
   "cell_type": "code",
   "execution_count": 3,
   "id": "bf6a60f2-fb73-44c8-820a-436f634fb0ae",
   "metadata": {},
   "outputs": [],
   "source": [
    "# Standard imports\n",
    "import numpy as np\n",
    "import pathlib\n",
    "import pandas as pd\n",
    "import matplotlib.pyplot as plt\n",
    "from matplotlib.patches import Rectangle\n",
    "import ipywidgets as widgets\n",
    "from ipywidgets import interact, interact_manual, fixed\n",
    "import sys\n",
    "import yaml\n",
    "import json\n",
    "from typing import List, Union\n",
    "\n",
    "# Deep learning imports.\n",
    "import torch\n",
    "from torch import nn\n",
    "import torch.nn.functional as F\n",
    "from torch.utils.data import DataLoader, random_split, TensorDataset\n",
    "\n",
    "import torchvision\n",
    "import torchvision.transforms.functional as TF\n",
    "from torchvision.models.detection.faster_rcnn import FastRCNNPredictor\n",
    "from torchvision.ops import box_iou, nms\n",
    "\n",
    "import pytorch_lightning as pl\n",
    "from pytorch_lightning.callbacks import ModelCheckpoint\n",
    "from pytorch_lightning.loggers import TensorBoardLogger\n",
    "\n",
    "import torchmetrics\n",
    "\n",
    "from modeling import CRES_Dataset, CRES_DM, CRES_LM\n",
    "root_dir = sys.path[0]+'/config/fasterRCNN'"
   ]
  },
  {
   "cell_type": "markdown",
   "id": "664c0907-ecb8-41a2-b362-a32a7b9f05d9",
   "metadata": {},
   "source": [
    "## Loading saved model"
   ]
  },
  {
   "cell_type": "code",
   "execution_count": 4,
   "id": "408e5ba4-3b5c-4480-8f58-e9ccb56028a0",
   "metadata": {},
   "outputs": [],
   "source": [
    "PATH = 'tb_logs/cres/version_{}/checkpoints/epoch={:02d}.ckpt'.format(56, 96)\n",
    "cres_lm = CRES_LM.load_from_checkpoint(PATH)"
   ]
  },
  {
   "cell_type": "code",
   "execution_count": 6,
   "id": "37881478-9b74-4f94-92ce-ca5ea769d599",
   "metadata": {},
   "outputs": [],
   "source": [
    "# Define training object, max_pool=16, file_max=1000, batch_size=1 correspond to \n",
    "# the conditions for the model 56 inside of tb_logs\n",
    "cres_dm = CRES_DM(root_dir,\n",
    "                  max_pool=16,\n",
    "                  file_max=1000,\n",
    "                  batch_size=1,\n",
    "                  num_workers=4\n",
    "                  )"
   ]
  },
  {
   "cell_type": "markdown",
   "id": "daeaf168-6a23-4bf1-aee1-2383f2f69bbf",
   "metadata": {},
   "source": [
    "#### Generate some predictions"
   ]
  },
  {
   "cell_type": "code",
   "execution_count": 7,
   "id": "9db1f368-5805-4521-a82c-fd9e98903e44",
   "metadata": {},
   "outputs": [
    {
     "data": {
      "text/plain": [
       "[{'boxes': tensor([[146.5394, 160.3418, 319.6300, 167.0255],\n",
       "          [171.9239, 118.2621, 319.6597, 124.9091],\n",
       "          [204.2013, 144.0251, 319.3449, 146.0231],\n",
       "          [ 55.0153, 249.9287, 248.4135, 252.0918],\n",
       "          [297.8691, 189.0088, 319.7892, 190.0078]], grad_fn=<StackBackward0>),\n",
       "  'labels': tensor([1, 1, 1, 1, 1]),\n",
       "  'scores': tensor([1.0000, 1.0000, 1.0000, 0.9999, 0.9995], grad_fn=<IndexBackward0>)}]"
      ]
     },
     "execution_count": 7,
     "metadata": {},
     "output_type": "execute_result"
    }
   ],
   "source": [
    "test_dataiter = iter(cres_dm.test_dataloader())\n",
    "imgs, targets = test_dataiter.next()\n",
    "preds = cres_lm(imgs)\n",
    "preds"
   ]
  },
  {
   "cell_type": "markdown",
   "id": "54090e54-352e-49bc-9c70-2dd104fb96d1",
   "metadata": {},
   "source": [
    "#### Visualize"
   ]
  },
  {
   "cell_type": "code",
   "execution_count": 10,
   "id": "4ed0f3d8-3aa4-4f5d-ab28-cb1076c7698e",
   "metadata": {},
   "outputs": [],
   "source": [
    "def apply_score_cut(preds, score_threshold=0.5):\n",
    "    \"\"\"\n",
    "    Takes a list of prediction dictionaries (one for each image) and cuts\n",
    "    out all instances whose score is below the score threshold.\n",
    "\n",
    "    Args:\n",
    "        preds (List[Dict[torch.Tensor]]): predictions as output by the\n",
    "            torchvision implimentation of MaskRCNN or FasterRCNN. The \n",
    "            scores are in the range (0,1) and signify the certainty of \n",
    "            the model for that instance.\n",
    "            See link below for details on the target/prediction formatting.\n",
    "            https://pytorch.org/vision/0.12/_modules/torchvision/models/detection/mask_rcnn.html\n",
    "        score_threshold (float): the threshold to apply to the identified\n",
    "            objects. If an instance is below the score_threshold it will\n",
    "            be removed from the score_thresholded_preds dictionary.\n",
    "\n",
    "    Returns:\n",
    "        score_thresholded_preds (List[Dict[torch.Tensor]]): predictions\n",
    "            that exceed score_threshold.\n",
    "    \"\"\"\n",
    "    score_thresholded_preds = [\n",
    "        {key: value[pred[\"scores\"] > score_threshold] for key, value in pred.items()}\n",
    "        for pred in preds\n",
    "    ]\n",
    "\n",
    "    return score_thresholded_preds\n",
    "\n",
    "def show(imgs, figsize=(10.0, 10.0)):\n",
    "    \"\"\"Displays a single image or list of images. Taken more or less from\n",
    "    the pytorch docs:\n",
    "    https://pytorch.org/vision/main/auto_examples/plot_visualization_utils.html#visualizing-a-grid-of-images\n",
    "\n",
    "    Args:\n",
    "        imgs (Union[List[torch.Tensor], torch.Tensor]): A list of images\n",
    "            of shape (3, H, W) or a single image of shape (3, H, W).\n",
    "        figsize (Tuple[float, float]): size of figure to display.\n",
    "\n",
    "    Returns:\n",
    "        None\n",
    "    \"\"\"\n",
    "\n",
    "    if not isinstance(imgs, list):\n",
    "        imgs = [imgs]\n",
    "    fig, axs = plt.subplots(ncols=len(imgs), figsize=figsize, squeeze=False)\n",
    "    for i, img in enumerate(imgs):\n",
    "        img = img.detach()\n",
    "        img = TF.to_pil_image(img)\n",
    "        axs[0, i].imshow(np.asarray(img))\n",
    "        axs[0, i].set(xticklabels=[], yticklabels=[], xticks=[], yticks=[])\n",
    "    plt.show()\n",
    "\n",
    "    return None\n",
    "\n",
    "def display_boxes(imgs, target_pred_dict, class_map, width = 1, fill=False):\n",
    "    \"\"\"\n",
    "    Takes a list of images and a list of target or prediction dictionaries\n",
    "    of the same len and overlays bounding boxes onto the images.\n",
    "    Returns:\n",
    "        result_imgs (List[torch.ByteTensor[3, H, W]]): list of images with\n",
    "            overlaid bounding boxes.\n",
    "    \"\"\"\n",
    "    num_imgs = len(imgs)\n",
    "    result_imgs = [\n",
    "        draw_bounding_boxes(\n",
    "            imgs[i].type(torch.uint8),\n",
    "            target_pred_dict[i][\"boxes\"].int(),\n",
    "            fill=fill,\n",
    "            colors=[\n",
    "                class_map[j.item()][\"target_color\"]\n",
    "                for j in target_pred_dict[i][\"labels\"]\n",
    "            ],\n",
    "            width=width,\n",
    "        )\n",
    "        for i in range(num_imgs)\n",
    "    ]\n",
    "\n",
    "    return result_imgs"
   ]
  },
  {
   "cell_type": "code",
   "execution_count": 15,
   "id": "b28edcd1-d005-4cec-9b90-7fab84653f41",
   "metadata": {},
   "outputs": [
    {
     "data": {
      "application/vnd.jupyter.widget-view+json": {
       "model_id": "4cf305bcbcf048bcbf346abbc1fa01ea",
       "version_major": 2,
       "version_minor": 0
      },
      "text/plain": [
       "interactive(children=(Checkbox(value=False, description='target boxes'), Checkbox(value=False, description='pr…"
      ]
     },
     "metadata": {},
     "output_type": "display_data"
    }
   ],
   "source": [
    "%matplotlib widget\n",
    "@interact\n",
    "def vizualize_targets_predictions(\n",
    "                                target_box = widgets.Checkbox(value=False,description='target boxes'),\n",
    "                                pred_box = widgets.Checkbox(value=False,description='prediction boxes'),\n",
    "                                num_imgs= widgets.IntSlider(value=len(preds),min=0,max=len(preds),step=1, description = \"num_imgs\"),\n",
    "                                score_thresh = widgets.FloatSlider(value=.5,min=0,max=1,step=.0001, description = \"score_thresh\"),\n",
    "                                width =  widgets.IntSlider(value=1,min=1,max=10,step=1), \n",
    "                                display_size = widgets.IntSlider(value=10,min=2,max=50,step=1)\n",
    "                                ): \n",
    "    preds_cut = apply_score_cut(preds, score_threshold=score_thresh)\n",
    "    result_image = [imgs[i] for i in range(num_imgs)]\n",
    "\n",
    "    if target_box: \n",
    "        result_image = display_boxes(result_image, targets, cres_dm.class_map, fill = True)\n",
    "\n",
    "    if pred_box: \n",
    "        result_image = display_boxes(result_image, preds_cut, cres_dm.class_map)\n",
    "\n",
    "    grid = make_grid(result_image)\n",
    "    show(grid, figsize = (display_size, display_size))"
   ]
  },
  {
   "cell_type": "markdown",
   "id": "44ee70b8-e2ef-4d73-bf30-ffd051b58acc",
   "metadata": {},
   "source": [
    "#### Rerun this cell in order to generate new image above."
   ]
  },
  {
   "cell_type": "code",
   "execution_count": 14,
   "id": "e6430012-cd94-4d24-9641-67d34cc1475a",
   "metadata": {},
   "outputs": [],
   "source": [
    "imgs, targets = test_dataiter.next()\n",
    "preds = cres_lm(imgs)"
   ]
  },
  {
   "cell_type": "code",
   "execution_count": null,
   "id": "c277ce92-56a6-4231-a905-402fdbd7b1bc",
   "metadata": {},
   "outputs": [],
   "source": []
  },
  {
   "cell_type": "code",
   "execution_count": 97,
   "id": "c7644fc1-7ebb-4653-88ef-8e2ce6219c47",
   "metadata": {},
   "outputs": [
    {
     "name": "stdout",
     "output_type": "stream",
     "text": [
      "tensor([[218.2170, 100.1417, 319.6119, 104.1351],\n",
      "        [ 16.0008, 196.2398, 164.2518, 200.6967],\n",
      "        [115.0901,  96.1346, 319.4814,  98.5394],\n",
      "        [ 80.4676,  89.0107, 132.5562,  89.9598],\n",
      "        [ 80.1276,  89.9913, 132.9292,  91.0066]], grad_fn=<IndexBackward0>) tensor([1.0000, 1.0000, 0.9990, 0.7828, 0.5706], grad_fn=<IndexBackward0>) tensor([1, 1, 1, 1, 1])\n"
     ]
    },
    {
     "data": {
      "text/plain": [
       "tensor([[0.]])"
      ]
     },
     "execution_count": 97,
     "metadata": {},
     "output_type": "execute_result"
    }
   ],
   "source": [
    "keep = nms(preds[0]['boxes'], preds[0]['scores'], iou_threshold=.1)\n",
    "print(preds[0]['boxes'][keep], preds[0]['scores'][keep], preds[0]['labels'][keep])\n",
    "box_iou(targets[0]['boxes'], preds[0]['boxes'][keep])\n",
    "box_iou(torch.tensor([ 80.4676,  89.0107, 132.5562,  89.9598]).unsqueeze(0),torch.tensor([ 80.1276,  89.9913, 132.9292,  91.0066]).unsqueeze(0))"
   ]
  },
  {
   "cell_type": "code",
   "execution_count": 134,
   "id": "fa1ad0cf-2cd6-4878-810d-b5582f42df52",
   "metadata": {},
   "outputs": [
    {
     "data": {
      "text/plain": [
       "(tensor([[ 14, 196, 165, 200],\n",
       "         [115,  97, 320,  99],\n",
       "         [ 80,  89, 132,  90],\n",
       "         [218, 100, 320, 104]], dtype=torch.int32),\n",
       " tensor([[218.2170, 100.1417, 319.6119, 104.1351],\n",
       "         [ 16.0008, 196.2398, 164.2518, 200.6967],\n",
       "         [115.0901,  96.1346, 319.4814,  98.5394],\n",
       "         [ 80.4676,  89.0107, 132.5562,  89.9598],\n",
       "         [ 80.1276,  89.9913, 132.9292,  91.0066]], grad_fn=<IndexBackward0>))"
      ]
     },
     "execution_count": 134,
     "metadata": {},
     "output_type": "execute_result"
    }
   ],
   "source": [
    "targets[0]['boxes'],preds[0]['boxes'][keep]"
   ]
  },
  {
   "cell_type": "code",
   "execution_count": 133,
   "id": "074476ea-6ec9-40cc-92d1-76cbccaf1713",
   "metadata": {},
   "outputs": [
    {
     "data": {
      "text/plain": [
       "tensor([[0.0000, 0.7882, 0.0000, 0.0000, 0.0000],\n",
       "        [0.0000, 0.0000, 0.5361, 0.0000, 0.0000],\n",
       "        [0.0000, 0.0000, 0.0000, 0.9311, 0.0043],\n",
       "        [0.9277, 0.0000, 0.0000, 0.0000, 0.0000]], grad_fn=<DivBackward0>)"
      ]
     },
     "execution_count": 133,
     "metadata": {},
     "output_type": "execute_result"
    }
   ],
   "source": [
    "box_iou(targets[0]['boxes'], preds[0]['boxes'][keep])"
   ]
  },
  {
   "cell_type": "code",
   "execution_count": 60,
   "id": "8b226f91-af03-4c68-94b0-93691ad9d272",
   "metadata": {},
   "outputs": [
    {
     "data": {
      "text/plain": [
       "({'boxes': tensor([[ 14, 196, 165, 200],\n",
       "          [115,  97, 320,  99],\n",
       "          [ 80,  89, 132,  90],\n",
       "          [218, 100, 320, 104]], dtype=torch.int32),\n",
       "  'labels': tensor([1, 1, 1, 1])},\n",
       " {'boxes': tensor([[218.2170, 100.1417, 319.6119, 104.1351],\n",
       "          [ 16.0008, 196.2398, 164.2518, 200.6967],\n",
       "          [115.0901,  96.1346, 319.4814,  98.5394],\n",
       "          [ 80.4676,  89.0107, 132.5562,  89.9598],\n",
       "          [111.8717,  96.3601, 318.5783, 101.3533],\n",
       "          [ 80.1276,  89.9913, 132.9292,  91.0066]], grad_fn=<IndexBackward0>),\n",
       "  'labels': tensor([1, 1, 1, 1, 1, 1]),\n",
       "  'scores': tensor([1.0000, 1.0000, 0.9990, 0.7828, 0.6589, 0.5706],\n",
       "         grad_fn=<IndexBackward0>)})"
      ]
     },
     "execution_count": 60,
     "metadata": {},
     "output_type": "execute_result"
    }
   ],
   "source": [
    "targets[0], apply_score_cut(preds)[0]"
   ]
  },
  {
   "cell_type": "code",
   "execution_count": 128,
   "id": "665c1f7f-08e5-4228-beae-2c8724f38141",
   "metadata": {},
   "outputs": [
    {
     "data": {
      "text/plain": [
       "tensor([0.7882, 0.5361, 0.9311, 0.0043, 0.9277], grad_fn=<IndexBackward0>)"
      ]
     },
     "execution_count": 128,
     "metadata": {},
     "output_type": "execute_result"
    }
   ],
   "source": [
    "box_iou(targets[0]['boxes'], preds[0]['boxes'][keep])[box_iou(targets[0]['boxes'], preds[0]['boxes'][keep])>0]"
   ]
  },
  {
   "cell_type": "code",
   "execution_count": 32,
   "id": "9f3192e6-41eb-4771-a599-f1308b055d15",
   "metadata": {
    "tags": []
   },
   "outputs": [
    {
     "name": "stdout",
     "output_type": "stream",
     "text": [
      "On image 0\n",
      "On image 25\n",
      "On image 50\n",
      "On image 75\n",
      "On image 100\n"
     ]
    }
   ],
   "source": [
    "ious = []\n",
    "test_dataiter = iter(cres_dm.test_dataloader())\n",
    "\n",
    "iterating = True\n",
    "i=0\n",
    "\n",
    "while iterating:\n",
    "    try:\n",
    "        imgs, targets = test_dataiter.next()\n",
    "        preds = cres_lm(imgs)\n",
    "        keep = nms(preds[0]['boxes'], preds[0]['scores'], iou_threshold=.1)\n",
    "        ious += list(box_iou(targets[0]['boxes'], preds[0]['boxes'][keep])[box_iou(targets[0]['boxes'], preds[0]['boxes'][keep])>0])\n",
    "        if not i%25:\n",
    "            print(f'On image {i}')\n",
    "        i+=1\n",
    "    except:\n",
    "        iterating = False"
   ]
  },
  {
   "cell_type": "code",
   "execution_count": 39,
   "id": "0779a08c-6d96-482a-bd9e-ebd5e348a9b4",
   "metadata": {},
   "outputs": [
    {
     "data": {
      "application/vnd.jupyter.widget-view+json": {
       "model_id": "",
       "version_major": 2,
       "version_minor": 0
      },
      "image/png": "[encoded data removed]",
      "text/html": [
       "\n",
       "            <div style=\"display: inline-block;\">\n",
       "                <div class=\"jupyter-widgets widget-label\" style=\"text-align: center;\">\n",
       "                    Figure\n",
       "                </div>\n",
       "                <img src='data:image/png;base64,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' width=432.0/>\n",
       "            </div>\n",
       "        "
      ],
      "text/plain": [
       "Canvas(toolbar=Toolbar(toolitems=[('Home', 'Reset original view', 'home', 'home'), ('Back', 'Back to previous …"
      ]
     },
     "metadata": {},
     "output_type": "display_data"
    }
   ],
   "source": [
    "%matplotlib widget\n",
    "ious = torch.detach(torch.tensor(ious)).numpy()\n",
    "plt.scatter(list(range(len(ious))), ious)\n",
    "plt.hlines(y=ious.mean(),xmin=0, xmax=400, color='red')\n",
    "plt.show()"
   ]
  },
  {
   "cell_type": "code",
   "execution_count": 34,
   "id": "6749b68c-38dd-4ef0-a9c6-6395cda44b2e",
   "metadata": {},
   "outputs": [
    {
     "data": {
      "text/plain": [
       "0.8"
      ]
     },
     "execution_count": 34,
     "metadata": {},
     "output_type": "execute_result"
    }
   ],
   "source": [
    "ious.mean().round(3)"
   ]
  },
  {
   "cell_type": "code",
   "execution_count": 35,
   "id": "d26f029e-a1f7-490c-a2d9-c88c831be46b",
   "metadata": {},
   "outputs": [
    {
     "name": "stdout",
     "output_type": "stream",
     "text": [
      "On image 0\n",
      "On image 25\n",
      "On image 50\n",
      "On image 75\n",
      "On image 100\n"
     ]
    }
   ],
   "source": [
    "ious_3 = []\n",
    "test_dataiter = iter(cres_dm.test_dataloader())\n",
    "\n",
    "iterating = True\n",
    "i=0\n",
    "\n",
    "while iterating:\n",
    "    try:\n",
    "        imgs, targets = test_dataiter.next()\n",
    "        preds = cres_lm(imgs)\n",
    "        keep = nms(preds[0]['boxes'], preds[0]['scores'], iou_threshold=.3)\n",
    "        ious_3 += list(box_iou(targets[0]['boxes'], preds[0]['boxes'][keep])[box_iou(targets[0]['boxes'], preds[0]['boxes'][keep])>0])\n",
    "        if not i%25:\n",
    "            print(f'On image {i}')\n",
    "        i+=1\n",
    "    except: \n",
    "        iterating = False"
   ]
  },
  {
   "cell_type": "code",
   "execution_count": 36,
   "id": "272380eb-2311-4769-9df1-2d97499b1a3b",
   "metadata": {},
   "outputs": [
    {
     "data": {
      "application/vnd.jupyter.widget-view+json": {
       "model_id": "",
       "version_major": 2,
       "version_minor": 0
      },
      "image/png": "[encoded data removed]",
      "text/html": [
       "\n",
       "            <div style=\"display: inline-block;\">\n",
       "                <div class=\"jupyter-widgets widget-label\" style=\"text-align: center;\">\n",
       "                    Figure\n",
       "                </div>\n",
       "                <img src='data:image/png;base64,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' width=432.0/>\n",
       "            </div>\n",
       "        "
      ],
      "text/plain": [
       "Canvas(toolbar=Toolbar(toolitems=[('Home', 'Reset original view', 'home', 'home'), ('Back', 'Back to previous …"
      ]
     },
     "metadata": {},
     "output_type": "display_data"
    }
   ],
   "source": [
    "%matplotlib widget\n",
    "ious_3 = torch.detach(torch.tensor(ious_3)).numpy()\n",
    "plt.scatter(list(range(len(ious_3))), ious_3)\n",
    "plt.hlines(y=ious_3.mean(),xmin=0, xmax=400, color='red')\n",
    "plt.show()"
   ]
  },
  {
   "cell_type": "code",
   "execution_count": 37,
   "id": "bffc92e1-62d0-49f4-bb01-9dfda46bb5c2",
   "metadata": {},
   "outputs": [
    {
     "data": {
      "text/plain": [
       "0.763434"
      ]
     },
     "execution_count": 37,
     "metadata": {},
     "output_type": "execute_result"
    }
   ],
   "source": [
    "ious_3.mean()"
   ]
  },
  {
   "cell_type": "code",
   "execution_count": 21,
   "id": "c4e5370c-59da-45c3-80a4-cda35517a259",
   "metadata": {},
   "outputs": [
    {
     "name": "stdout",
     "output_type": "stream",
     "text": [
      "On image 0\n"
     ]
    }
   ],
   "source": [
    "ious_5 = []\n",
    "test_dataiter = iter(cres_dm.test_dataloader())\n",
    "\n",
    "iterating = True\n",
    "i=0\n",
    "\n",
    "while iterating:\n",
    "    try:\n",
    "        imgs, targets = test_dataiter.next()\n",
    "        preds = cres_lm(imgs)\n",
    "        keep = nms(preds[0]['boxes'], preds[0]['scores'], iou_threshold=.5)\n",
    "        ious_5 += list(box_iou(targets[0]['boxes'], preds[0]['boxes'][keep])[box_iou(targets[0]['boxes'], preds[0]['boxes'][keep])>0])\n",
    "        if not i%25:\n",
    "            print(f'On image {i}')\n",
    "        i+=1\n",
    "    except:\n",
    "        iterating = False"
   ]
  }
 ],
 "metadata": {
  "kernelspec": {
   "display_name": "Python 3 (ipykernel)",
   "language": "python",
   "name": "python3"
  },
  "language_info": {
   "codemirror_mode": {
    "name": "ipython",
    "version": 3
   },
   "file_extension": ".py",
   "mimetype": "text/x-python",
   "name": "python",
   "nbconvert_exporter": "python",
   "pygments_lexer": "ipython3",
   "version": "3.8.8"
  }
 },
 "nbformat": 4,
 "nbformat_minor": 5
}
